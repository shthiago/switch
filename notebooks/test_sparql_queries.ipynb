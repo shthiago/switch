{
 "cells": [
  {
   "cell_type": "code",
   "execution_count": 1,
   "id": "76aced0b-5575-4e43-89f9-0e8a3ea936ae",
   "metadata": {},
   "outputs": [],
   "source": [
    "import sys\n",
    "sys.path.append('../')"
   ]
  },
  {
   "cell_type": "code",
   "execution_count": 2,
   "id": "bac7d788-503b-41b5-91db-a49191550012",
   "metadata": {},
   "outputs": [],
   "source": [
    "from transpiler import parser"
   ]
  },
  {
   "cell_type": "code",
   "execution_count": 3,
   "id": "7e12b3a2-bf13-403f-a027-de517e007f72",
   "metadata": {},
   "outputs": [],
   "source": [
    "from rdflib import Graph"
   ]
  },
  {
   "cell_type": "code",
   "execution_count": 4,
   "id": "e19ae3fb-cbb6-40bc-aa11-95d5d33004a6",
   "metadata": {},
   "outputs": [],
   "source": [
    "g = Graph()"
   ]
  },
  {
   "cell_type": "code",
   "execution_count": 5,
   "id": "edc0b704-b946-4ae9-8441-5edfdaff9290",
   "metadata": {},
   "outputs": [
    {
     "data": {
      "text/plain": [
       "<Graph identifier=N01e0b543b1964500ae1e7f40afedbab0 (<class 'rdflib.graph.Graph'>)>"
      ]
     },
     "execution_count": 5,
     "metadata": {},
     "output_type": "execute_result"
    }
   ],
   "source": [
    "g.parse('dataset/dataset.rdf')"
   ]
  },
  {
   "cell_type": "code",
   "execution_count": 6,
   "id": "fdfa5620-39ac-4f2b-bf32-6e484dbb37b7",
   "metadata": {},
   "outputs": [
    {
     "data": {
      "text/plain": [
       "[{rdflib.term.Variable('name'): rdflib.term.Literal('Russian Federation'), rdflib.term.Variable('stateCount'): rdflib.term.Literal('89', datatype=rdflib.term.URIRef('http://www.w3.org/2001/XMLSchema#integer'))},\n",
       " {rdflib.term.Variable('name'): rdflib.term.Literal('Turkey'), rdflib.term.Variable('stateCount'): rdflib.term.Literal('79', datatype=rdflib.term.URIRef('http://www.w3.org/2001/XMLSchema#integer'))},\n",
       " {rdflib.term.Variable('name'): rdflib.term.Literal('Georgia'), rdflib.term.Variable('stateCount'): rdflib.term.Literal('78', datatype=rdflib.term.URIRef('http://www.w3.org/2001/XMLSchema#integer'))},\n",
       " {rdflib.term.Variable('name'): rdflib.term.Literal('Azerbaijan'), rdflib.term.Variable('stateCount'): rdflib.term.Literal('77', datatype=rdflib.term.URIRef('http://www.w3.org/2001/XMLSchema#integer'))},\n",
       " {rdflib.term.Variable('name'): rdflib.term.Literal('Thailand'), rdflib.term.Variable('stateCount'): rdflib.term.Literal('77', datatype=rdflib.term.URIRef('http://www.w3.org/2001/XMLSchema#integer'))},\n",
       " {rdflib.term.Variable('name'): rdflib.term.Literal('Viet Nam'), rdflib.term.Variable('stateCount'): rdflib.term.Literal('60', datatype=rdflib.term.URIRef('http://www.w3.org/2001/XMLSchema#integer'))},\n",
       " {rdflib.term.Variable('name'): rdflib.term.Literal('United States'), rdflib.term.Variable('stateCount'): rdflib.term.Literal('57', datatype=rdflib.term.URIRef('http://www.w3.org/2001/XMLSchema#integer'))},\n",
       " {rdflib.term.Variable('name'): rdflib.term.Literal('Moldova'), rdflib.term.Variable('stateCount'): rdflib.term.Literal('50', datatype=rdflib.term.URIRef('http://www.w3.org/2001/XMLSchema#integer'))},\n",
       " {rdflib.term.Variable('name'): rdflib.term.Literal('Poland'), rdflib.term.Variable('stateCount'): rdflib.term.Literal('49', datatype=rdflib.term.URIRef('http://www.w3.org/2001/XMLSchema#integer'))},\n",
       " {rdflib.term.Variable('name'): rdflib.term.Literal('Algeria'), rdflib.term.Variable('stateCount'): rdflib.term.Literal('47', datatype=rdflib.term.URIRef('http://www.w3.org/2001/XMLSchema#integer'))},\n",
       " {rdflib.term.Variable('name'): rdflib.term.Literal('Japan'), rdflib.term.Variable('stateCount'): rdflib.term.Literal('46', datatype=rdflib.term.URIRef('http://www.w3.org/2001/XMLSchema#integer'))},\n",
       " {rdflib.term.Variable('name'): rdflib.term.Literal('Burkina Faso'), rdflib.term.Variable('stateCount'): rdflib.term.Literal('45', datatype=rdflib.term.URIRef('http://www.w3.org/2001/XMLSchema#integer'))},\n",
       " {rdflib.term.Variable('name'): rdflib.term.Literal('Hungary'), rdflib.term.Variable('stateCount'): rdflib.term.Literal('42', datatype=rdflib.term.URIRef('http://www.w3.org/2001/XMLSchema#integer'))},\n",
       " {rdflib.term.Variable('name'): rdflib.term.Literal('Romania'), rdflib.term.Variable('stateCount'): rdflib.term.Literal('41', datatype=rdflib.term.URIRef('http://www.w3.org/2001/XMLSchema#integer'))},\n",
       " {rdflib.term.Variable('name'): rdflib.term.Literal('Uganda'), rdflib.term.Variable('stateCount'): rdflib.term.Literal('39', datatype=rdflib.term.URIRef('http://www.w3.org/2001/XMLSchema#integer'))},\n",
       " {rdflib.term.Variable('name'): rdflib.term.Literal('Albania'), rdflib.term.Variable('stateCount'): rdflib.term.Literal('36', datatype=rdflib.term.URIRef('http://www.w3.org/2001/XMLSchema#integer'))},\n",
       " {rdflib.term.Variable('name'): rdflib.term.Literal('China'), rdflib.term.Variable('stateCount'): rdflib.term.Literal('33', datatype=rdflib.term.URIRef('http://www.w3.org/2001/XMLSchema#integer'))},\n",
       " {rdflib.term.Variable('name'): rdflib.term.Literal('Latvia'), rdflib.term.Variable('stateCount'): rdflib.term.Literal('33', datatype=rdflib.term.URIRef('http://www.w3.org/2001/XMLSchema#integer'))},\n",
       " {rdflib.term.Variable('name'): rdflib.term.Literal('Colombia'), rdflib.term.Variable('stateCount'): rdflib.term.Literal('33', datatype=rdflib.term.URIRef('http://www.w3.org/2001/XMLSchema#integer'))},\n",
       " {rdflib.term.Variable('name'): rdflib.term.Literal('Mexico'), rdflib.term.Variable('stateCount'): rdflib.term.Literal('32', datatype=rdflib.term.URIRef('http://www.w3.org/2001/XMLSchema#integer'))},\n",
       " {rdflib.term.Variable('name'): rdflib.term.Literal('India'), rdflib.term.Variable('stateCount'): rdflib.term.Literal('32', datatype=rdflib.term.URIRef('http://www.w3.org/2001/XMLSchema#integer'))},\n",
       " {rdflib.term.Variable('name'): rdflib.term.Literal('France'), rdflib.term.Variable('stateCount'): rdflib.term.Literal('32', datatype=rdflib.term.URIRef('http://www.w3.org/2001/XMLSchema#integer'))},\n",
       " {rdflib.term.Variable('name'): rdflib.term.Literal('Nigeria'), rdflib.term.Variable('stateCount'): rdflib.term.Literal('31', datatype=rdflib.term.URIRef('http://www.w3.org/2001/XMLSchema#integer'))},\n",
       " {rdflib.term.Variable('name'): rdflib.term.Literal('Afghanistan'), rdflib.term.Variable('stateCount'): rdflib.term.Literal('30', datatype=rdflib.term.URIRef('http://www.w3.org/2001/XMLSchema#integer'))},\n",
       " {rdflib.term.Variable('name'): rdflib.term.Literal('Dominican Republic'), rdflib.term.Variable('stateCount'): rdflib.term.Literal('29', datatype=rdflib.term.URIRef('http://www.w3.org/2001/XMLSchema#integer'))},\n",
       " {rdflib.term.Variable('name'): rdflib.term.Literal('Korea'), rdflib.term.Variable('stateCount'): rdflib.term.Literal('28', datatype=rdflib.term.URIRef('http://www.w3.org/2001/XMLSchema#integer'))},\n",
       " {rdflib.term.Variable('name'): rdflib.term.Literal('Brazil'), rdflib.term.Variable('stateCount'): rdflib.term.Literal('27', datatype=rdflib.term.URIRef('http://www.w3.org/2001/XMLSchema#integer'))},\n",
       " {rdflib.term.Variable('name'): rdflib.term.Literal('Ukraine'), rdflib.term.Variable('stateCount'): rdflib.term.Literal('27', datatype=rdflib.term.URIRef('http://www.w3.org/2001/XMLSchema#integer'))},\n",
       " {rdflib.term.Variable('name'): rdflib.term.Literal('Iran'), rdflib.term.Variable('stateCount'): rdflib.term.Literal('26', datatype=rdflib.term.URIRef('http://www.w3.org/2001/XMLSchema#integer'))},\n",
       " {rdflib.term.Variable('name'): rdflib.term.Literal('Sudan'), rdflib.term.Variable('stateCount'): rdflib.term.Literal('26', datatype=rdflib.term.URIRef('http://www.w3.org/2001/XMLSchema#integer'))},\n",
       " {rdflib.term.Variable('name'): rdflib.term.Literal('Egypt'), rdflib.term.Variable('stateCount'): rdflib.term.Literal('26', datatype=rdflib.term.URIRef('http://www.w3.org/2001/XMLSchema#integer'))},\n",
       " {rdflib.term.Variable('name'): rdflib.term.Literal('Switzerland'), rdflib.term.Variable('stateCount'): rdflib.term.Literal('26', datatype=rdflib.term.URIRef('http://www.w3.org/2001/XMLSchema#integer'))},\n",
       " {rdflib.term.Variable('name'): rdflib.term.Literal('Peru'), rdflib.term.Variable('stateCount'): rdflib.term.Literal('25', datatype=rdflib.term.URIRef('http://www.w3.org/2001/XMLSchema#integer'))},\n",
       " {rdflib.term.Variable('name'): rdflib.term.Literal('Tanzania'), rdflib.term.Variable('stateCount'): rdflib.term.Literal('25', datatype=rdflib.term.URIRef('http://www.w3.org/2001/XMLSchema#integer'))},\n",
       " {rdflib.term.Variable('name'): rdflib.term.Literal('Argentina'), rdflib.term.Variable('stateCount'): rdflib.term.Literal('24', datatype=rdflib.term.URIRef('http://www.w3.org/2001/XMLSchema#integer'))},\n",
       " {rdflib.term.Variable('name'): rdflib.term.Literal('Venezuela'), rdflib.term.Variable('stateCount'): rdflib.term.Literal('24', datatype=rdflib.term.URIRef('http://www.w3.org/2001/XMLSchema#integer'))},\n",
       " {rdflib.term.Variable('name'): rdflib.term.Literal('Tunisia'), rdflib.term.Variable('stateCount'): rdflib.term.Literal('23', datatype=rdflib.term.URIRef('http://www.w3.org/2001/XMLSchema#integer'))},\n",
       " {rdflib.term.Variable('name'): rdflib.term.Literal('Cambodia'), rdflib.term.Variable('stateCount'): rdflib.term.Literal('22', datatype=rdflib.term.URIRef('http://www.w3.org/2001/XMLSchema#integer'))},\n",
       " {rdflib.term.Variable('name'): rdflib.term.Literal('Mongolia'), rdflib.term.Variable('stateCount'): rdflib.term.Literal('22', datatype=rdflib.term.URIRef('http://www.w3.org/2001/XMLSchema#integer'))},\n",
       " {rdflib.term.Variable('name'): rdflib.term.Literal('Guatemala'), rdflib.term.Variable('stateCount'): rdflib.term.Literal('22', datatype=rdflib.term.URIRef('http://www.w3.org/2001/XMLSchema#integer'))},\n",
       " {rdflib.term.Variable('name'): rdflib.term.Literal('Bahamas'), rdflib.term.Variable('stateCount'): rdflib.term.Literal('21', datatype=rdflib.term.URIRef('http://www.w3.org/2001/XMLSchema#integer'))},\n",
       " {rdflib.term.Variable('name'): rdflib.term.Literal('Ecuador'), rdflib.term.Variable('stateCount'): rdflib.term.Literal('21', datatype=rdflib.term.URIRef('http://www.w3.org/2001/XMLSchema#integer'))},\n",
       " {rdflib.term.Variable('name'): rdflib.term.Literal('Norway'), rdflib.term.Variable('stateCount'): rdflib.term.Literal('21', datatype=rdflib.term.URIRef('http://www.w3.org/2001/XMLSchema#integer'))},\n",
       " {rdflib.term.Variable('name'): rdflib.term.Literal('Sweden'), rdflib.term.Variable('stateCount'): rdflib.term.Literal('21', datatype=rdflib.term.URIRef('http://www.w3.org/2001/XMLSchema#integer'))}]"
      ]
     },
     "execution_count": 6,
     "metadata": {},
     "output_type": "execute_result"
    }
   ],
   "source": [
    "query_result = g.query('''\n",
    "PREFIX b:<http://www.geonames.org/ontology#>\n",
    "PREFIX dct:<http://purl.org/dc/terms/>\n",
    "SELECT ?name (COUNT(?state) AS ?stateCount) WHERE {\n",
    "    ?country a b:Country .\n",
    "    ?country dct:hasPart ?state .\n",
    "    ?country b:name ?name\n",
    "} GROUP BY ?name\n",
    "HAVING (COUNT(?state) > 20)\n",
    "ORDER BY DESC (?stateCount)\n",
    "''')\n",
    "query_result.bindings"
   ]
  },
  {
   "cell_type": "code",
   "execution_count": 7,
   "id": "c1671b67-b6e9-46a1-bb4d-5812f244bdb8",
   "metadata": {},
   "outputs": [
    {
     "data": {
      "text/plain": [
       "44"
      ]
     },
     "execution_count": 7,
     "metadata": {},
     "output_type": "execute_result"
    }
   ],
   "source": [
    "len(query_result.bindings)"
   ]
  },
  {
   "cell_type": "code",
   "execution_count": null,
   "id": "4066f9d0-971d-4dfd-b201-b7086f261e45",
   "metadata": {},
   "outputs": [],
   "source": []
  },
  {
   "cell_type": "code",
   "execution_count": null,
   "id": "845d23a8-6fc7-4ec0-a4ac-ff3181433179",
   "metadata": {},
   "outputs": [],
   "source": []
  }
 ],
 "metadata": {
  "kernelspec": {
   "display_name": "Python 3 (ipykernel)",
   "language": "python",
   "name": "python3"
  },
  "language_info": {
   "codemirror_mode": {
    "name": "ipython",
    "version": 3
   },
   "file_extension": ".py",
   "mimetype": "text/x-python",
   "name": "python",
   "nbconvert_exporter": "python",
   "pygments_lexer": "ipython3",
   "version": "3.9.12"
  }
 },
 "nbformat": 4,
 "nbformat_minor": 5
}
