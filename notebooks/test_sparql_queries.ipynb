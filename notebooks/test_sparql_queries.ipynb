{
 "cells": [
  {
   "cell_type": "code",
   "execution_count": 1,
   "id": "7e12b3a2-bf13-403f-a027-de517e007f72",
   "metadata": {},
   "outputs": [],
   "source": [
    "from rdflib import Graph"
   ]
  },
  {
   "cell_type": "code",
   "execution_count": 2,
   "id": "e19ae3fb-cbb6-40bc-aa11-95d5d33004a6",
   "metadata": {},
   "outputs": [],
   "source": [
    "g = Graph()"
   ]
  },
  {
   "cell_type": "code",
   "execution_count": 3,
   "id": "edc0b704-b946-4ae9-8441-5edfdaff9290",
   "metadata": {},
   "outputs": [
    {
     "data": {
      "text/plain": [
       "<Graph identifier=N98bdc88ac8ec4208b30051924c54fc1f (<class 'rdflib.graph.Graph'>)>"
      ]
     },
     "execution_count": 3,
     "metadata": {},
     "output_type": "execute_result"
    }
   ],
   "source": [
    "g.parse('dataset/dataset.rdf')"
   ]
  },
  {
   "cell_type": "code",
   "execution_count": 4,
   "id": "27000be7-a2c5-4bad-b0b7-29aa28c4c532",
   "metadata": {},
   "outputs": [
    {
     "data": {
      "text/plain": [
       "'\\nMATCH (slot1)\\nWHERE\\n    slot1.uri = \"http://ontologi.es/place/BR\"\\nUNWIND [key in keys(slot1) WHERE key = \"http://purl.org/dc/terms/hasPart\" | [slot1, key, slot1[key]]] \\n    + [(slot1)-[relation]->(brazilState) WHERE type(relation) = \"ns2__hasPart\" | [slot1, relation, brazilState]] as triples\\n\\nWITH slot1 as slot1, triples[2] as brazilState\\nUNWIND [key in keys(brazilState) WHERE key = \"rdfs\"+ \"__\" + \"label\" | [brazilState, key, brazilState[key]]]\\n    + [(brazilState)-[relation]->(brazilStateName) WHERE type(relation) = \"rdfs__label\" | [brazilState, relation, brazilStateName]] as triples\\n\\nWITH slot1 as slot1, brazilState as brazilState, triples[2] as brazilStateName\\nRETURN brazilStateName\\n'"
      ]
     },
     "execution_count": 4,
     "metadata": {},
     "output_type": "execute_result"
    }
   ],
   "source": [
    "query_result = g.query('''\n",
    "    PREFIX :<http://ontologi.es/place/>\n",
    "    PREFIX dct:<http://purl.org/dc/terms/>\n",
    "    PREFIX rdfs:<http://www.w3.org/2000/01/rdf-schema#>\n",
    "    SELECT ?brazilState WHERE {\n",
    "        :BR dct:hasPart ?brazilState .\n",
    "        ?brazilState rdfs:label ?brazilStateName\n",
    "    }\n",
    "''')\n",
    "\n",
    "\"\"\"\n",
    "MATCH (slot1)\n",
    "WHERE\n",
    "    slot1.uri = \"http://ontologi.es/place/BR\"\n",
    "UNWIND [key in keys(slot1) WHERE key = n10s.rdf.shortFormFromFullUri(\"http://purl.org/dc/terms/\") + \"hasPart\" | [slot1, key, slot1[key]]] \n",
    "    + [(slot1)-[relation]->(brazilState) WHERE type(relation) = n10s.rdf.shortFormFromFullUri(\"http://purl.org/dc/terms/\") + \"hasPart\" | [slot1, relation, brazilState]] as triples\n",
    "\n",
    "WITH slot1 as slot1, triples[2] as brazilState\n",
    "UNWIND [key in keys(brazilState) WHERE key = n10s.rdf.shortFormFromFullUri(\"http://www.w3.org/2000/01/rdf-schema#\") + \"label\" | [brazilState, key, brazilState[key]]]\n",
    "    + [(brazilState)-[relation]->(brazilStateName) WHERE type(relation) = n10s.rdf.shortFormFromFullUri(\"http://www.w3.org/2000/01/rdf-schema#\") + \"label\" | [brazilState, relation, brazilStateName]] as triples\n",
    "\n",
    "WITH slot1 as slot1, brazilState as brazilState, triples[2] as brazilStateName\n",
    "RETURN brazilStateName\n",
    "\"\"\""
   ]
  },
  {
   "cell_type": "code",
   "execution_count": 7,
   "id": "97587a80-3706-43d3-8731-3bacc2288e73",
   "metadata": {},
   "outputs": [
    {
     "data": {
      "text/plain": [
       "'\\nMATCH (slot1)\\nWHERE\\n    slot1.uri = \"http://ontologi.es/place/BR\"\\nUNWIND [key in keys(slot1) WHERE key = n10s.rdf.shortFormFromFullUri(\"http://purl.org/dc/terms/\") + \"hasPart\" | [slot1, key, slot1[key]]] \\n    + [(slot1)-[relation]->(brazilState) WHERE type(relation) = n10s.rdf.shortFormFromFullUri(\"http://purl.org/dc/terms/\") + \"hasPart\" | [slot1, relation, brazilState]] as triples\\n\\nWITH slot1 as slot1, triples[2] as brazilState\\nUNWIND [key in keys(brazilState) WHERE key = n10s.rdf.shortFormFromFullUri(\"http://www.w3.org/2000/01/rdf-schema#\") + \"label\" | [brazilState, key, brazilState[key]]]\\n    + [(brazilState)-[relation]->(brazilStateName) WHERE type(relation) = n10s.rdf.shortFormFromFullUri(\"http://www.w3.org/2000/01/rdf-schema#\") + \"label\" | [brazilState, relation, brazilStateName]] as triples\\n\\nWITH slot1 as slot1, brazilState as brazilState, triples[2] as brazilStateName\\nRETURN brazilStateName\\n'"
      ]
     },
     "execution_count": 7,
     "metadata": {},
     "output_type": "execute_result"
    }
   ],
   "source": [
    "query_result = g.query('''\n",
    "    PREFIX :<http://ontologi.es/place/>\n",
    "    PREFIX dct:<http://purl.org/dc/terms/>\n",
    "    PREFIX rdfs:<http://www.w3.org/2000/01/rdf-schema#>\n",
    "    SELECT ?stateName WHERE {\n",
    "        {\n",
    "            :BR dct:hasPart ?brazilState .\n",
    "            ?brazilState rdfs:label ?stateName\n",
    "        } UNION {\n",
    "            :US dct:hasPart ?usaState .\n",
    "            ?usaState rdfs:label ?stateName\n",
    "        }\n",
    "    }\n",
    "''')\n",
    "\n",
    "\"\"\"\n",
    "MATCH (slot1)\n",
    "WHERE\n",
    "    slot1.uri = \"http://ontologi.es/place/BR\"\n",
    "UNWIND [key in keys(slot1) WHERE key = n10s.rdf.shortFormFromFullUri(\"http://purl.org/dc/terms/\") + \"hasPart\" | [slot1, key, slot1[key]]] \n",
    "    + [(slot1)-[relation]->(brazilState) WHERE type(relation) = n10s.rdf.shortFormFromFullUri(\"http://purl.org/dc/terms/\") + \"hasPart\" | [slot1, relation, brazilState]] as triples\n",
    "\n",
    "WITH slot1 as slot1, triples[2] as brazilState\n",
    "UNWIND [key in keys(brazilState) WHERE key = n10s.rdf.shortFormFromFullUri(\"http://www.w3.org/2000/01/rdf-schema#\") + \"label\" | [brazilState, key, brazilState[key]]]\n",
    "    + [(brazilState)-[relation]->(brazilStateName) WHERE type(relation) = n10s.rdf.shortFormFromFullUri(\"http://www.w3.org/2000/01/rdf-schema#\") + \"label\" | [brazilState, relation, brazilStateName]] as triples\n",
    "\n",
    "WITH slot1 as slot1, brazilState as brazilState, triples[2] as stateName\n",
    "RETURN stateName\n",
    "\n",
    "UNION\n",
    "\n",
    "MATCH (slot1)\n",
    "WHERE\n",
    "    slot1.uri = \"http://ontologi.es/place/US\"\n",
    "UNWIND [key in keys(slot1) WHERE key = n10s.rdf.shortFormFromFullUri(\"http://purl.org/dc/terms/\") + \"hasPart\" | [slot1, key, slot1[key]]] \n",
    "    + [(slot1)-[relation]->(usaState) WHERE type(relation) = n10s.rdf.shortFormFromFullUri(\"http://purl.org/dc/terms/\") + \"hasPart\" | [slot1, relation, usaState]] as triples\n",
    "\n",
    "WITH slot1 as slot1, triples[2] as usaState\n",
    "UNWIND [key in keys(usaState) WHERE key = n10s.rdf.shortFormFromFullUri(\"http://www.w3.org/2000/01/rdf-schema#\") + \"label\" | [usaState, key, usaState[key]]]\n",
    "    + [(usaState)-[relation]->(stateName) WHERE type(relation) = n10s.rdf.shortFormFromFullUri(\"http://www.w3.org/2000/01/rdf-schema#\") + \"label\" | [usaState, relation, stateName]] as triples\n",
    "\n",
    "WITH slot1 as slot1, usaState as usaState, triples[2] as stateName\n",
    "RETURN stateName\n",
    "\"\"\""
   ]
  },
  {
   "cell_type": "code",
   "execution_count": 8,
   "id": "53c283f1-a6bc-4c7e-84e8-caf363b2cd3a",
   "metadata": {},
   "outputs": [
    {
     "data": {
      "text/plain": [
       "[{rdflib.term.Variable('stateName'): rdflib.term.Literal('Distrito Federal')},\n",
       " {rdflib.term.Variable('stateName'): rdflib.term.Literal('Acre')},\n",
       " {rdflib.term.Variable('stateName'): rdflib.term.Literal('Alagoas')},\n",
       " {rdflib.term.Variable('stateName'): rdflib.term.Literal('Amapá')},\n",
       " {rdflib.term.Variable('stateName'): rdflib.term.Literal('Amazonas')},\n",
       " {rdflib.term.Variable('stateName'): rdflib.term.Literal('Bahia')},\n",
       " {rdflib.term.Variable('stateName'): rdflib.term.Literal('Ceará')},\n",
       " {rdflib.term.Variable('stateName'): rdflib.term.Literal('Espírito Santo')},\n",
       " {rdflib.term.Variable('stateName'): rdflib.term.Literal('Goiás')},\n",
       " {rdflib.term.Variable('stateName'): rdflib.term.Literal('Maranhāo')},\n",
       " {rdflib.term.Variable('stateName'): rdflib.term.Literal('Mato Grosso')},\n",
       " {rdflib.term.Variable('stateName'): rdflib.term.Literal('Mato Grosso do Sul')},\n",
       " {rdflib.term.Variable('stateName'): rdflib.term.Literal('Minas Gerais')},\n",
       " {rdflib.term.Variable('stateName'): rdflib.term.Literal('Pará')},\n",
       " {rdflib.term.Variable('stateName'): rdflib.term.Literal('Paraíba')},\n",
       " {rdflib.term.Variable('stateName'): rdflib.term.Literal('Paraná')},\n",
       " {rdflib.term.Variable('stateName'): rdflib.term.Literal('Pernambuco')},\n",
       " {rdflib.term.Variable('stateName'): rdflib.term.Literal('Piauí')},\n",
       " {rdflib.term.Variable('stateName'): rdflib.term.Literal('Rio de Janeiro')},\n",
       " {rdflib.term.Variable('stateName'): rdflib.term.Literal('Rio Grande do Norte')},\n",
       " {rdflib.term.Variable('stateName'): rdflib.term.Literal('Rio Grande do Sul')},\n",
       " {rdflib.term.Variable('stateName'): rdflib.term.Literal('Rondônia')},\n",
       " {rdflib.term.Variable('stateName'): rdflib.term.Literal('Roraima')},\n",
       " {rdflib.term.Variable('stateName'): rdflib.term.Literal('Santa Catarina')},\n",
       " {rdflib.term.Variable('stateName'): rdflib.term.Literal('São Paulo')},\n",
       " {rdflib.term.Variable('stateName'): rdflib.term.Literal('Sergipe')},\n",
       " {rdflib.term.Variable('stateName'): rdflib.term.Literal('Tocantins')},\n",
       " {rdflib.term.Variable('stateName'): rdflib.term.Literal('Alabama')},\n",
       " {rdflib.term.Variable('stateName'): rdflib.term.Literal('Alaska')},\n",
       " {rdflib.term.Variable('stateName'): rdflib.term.Literal('Arizona')},\n",
       " {rdflib.term.Variable('stateName'): rdflib.term.Literal('Arkansas')},\n",
       " {rdflib.term.Variable('stateName'): rdflib.term.Literal('California')},\n",
       " {rdflib.term.Variable('stateName'): rdflib.term.Literal('Colorado')},\n",
       " {rdflib.term.Variable('stateName'): rdflib.term.Literal('Connecticut')},\n",
       " {rdflib.term.Variable('stateName'): rdflib.term.Literal('Delaware')},\n",
       " {rdflib.term.Variable('stateName'): rdflib.term.Literal('Florida')},\n",
       " {rdflib.term.Variable('stateName'): rdflib.term.Literal('Georgia')},\n",
       " {rdflib.term.Variable('stateName'): rdflib.term.Literal('Hawaii')},\n",
       " {rdflib.term.Variable('stateName'): rdflib.term.Literal('Idaho')},\n",
       " {rdflib.term.Variable('stateName'): rdflib.term.Literal('Illinois')},\n",
       " {rdflib.term.Variable('stateName'): rdflib.term.Literal('Indiana')},\n",
       " {rdflib.term.Variable('stateName'): rdflib.term.Literal('Iowa')},\n",
       " {rdflib.term.Variable('stateName'): rdflib.term.Literal('Kansas')},\n",
       " {rdflib.term.Variable('stateName'): rdflib.term.Literal('Kentucky')},\n",
       " {rdflib.term.Variable('stateName'): rdflib.term.Literal('Louisiana')},\n",
       " {rdflib.term.Variable('stateName'): rdflib.term.Literal('Maine')},\n",
       " {rdflib.term.Variable('stateName'): rdflib.term.Literal('Maryland')},\n",
       " {rdflib.term.Variable('stateName'): rdflib.term.Literal('Massachusetts')},\n",
       " {rdflib.term.Variable('stateName'): rdflib.term.Literal('Michigan')},\n",
       " {rdflib.term.Variable('stateName'): rdflib.term.Literal('Minnesota')},\n",
       " {rdflib.term.Variable('stateName'): rdflib.term.Literal('Mississippi')},\n",
       " {rdflib.term.Variable('stateName'): rdflib.term.Literal('Missouri')},\n",
       " {rdflib.term.Variable('stateName'): rdflib.term.Literal('Montana')},\n",
       " {rdflib.term.Variable('stateName'): rdflib.term.Literal('Nebraska')},\n",
       " {rdflib.term.Variable('stateName'): rdflib.term.Literal('Nevada')},\n",
       " {rdflib.term.Variable('stateName'): rdflib.term.Literal('New Hampshire')},\n",
       " {rdflib.term.Variable('stateName'): rdflib.term.Literal('New Jersey')},\n",
       " {rdflib.term.Variable('stateName'): rdflib.term.Literal('New Mexico')},\n",
       " {rdflib.term.Variable('stateName'): rdflib.term.Literal('New York')},\n",
       " {rdflib.term.Variable('stateName'): rdflib.term.Literal('North Carolina')},\n",
       " {rdflib.term.Variable('stateName'): rdflib.term.Literal('North Dakota')},\n",
       " {rdflib.term.Variable('stateName'): rdflib.term.Literal('Ohio')},\n",
       " {rdflib.term.Variable('stateName'): rdflib.term.Literal('Oklahoma')},\n",
       " {rdflib.term.Variable('stateName'): rdflib.term.Literal('Oregon')},\n",
       " {rdflib.term.Variable('stateName'): rdflib.term.Literal('Pennsylvania')},\n",
       " {rdflib.term.Variable('stateName'): rdflib.term.Literal('Rhode Island')},\n",
       " {rdflib.term.Variable('stateName'): rdflib.term.Literal('South Carolina')},\n",
       " {rdflib.term.Variable('stateName'): rdflib.term.Literal('South Dakota')},\n",
       " {rdflib.term.Variable('stateName'): rdflib.term.Literal('Tennessee')},\n",
       " {rdflib.term.Variable('stateName'): rdflib.term.Literal('Texas')},\n",
       " {rdflib.term.Variable('stateName'): rdflib.term.Literal('Utah')},\n",
       " {rdflib.term.Variable('stateName'): rdflib.term.Literal('Vermont')},\n",
       " {rdflib.term.Variable('stateName'): rdflib.term.Literal('Virginia')},\n",
       " {rdflib.term.Variable('stateName'): rdflib.term.Literal('Washington')},\n",
       " {rdflib.term.Variable('stateName'): rdflib.term.Literal('West Virginia')},\n",
       " {rdflib.term.Variable('stateName'): rdflib.term.Literal('Wisconsin')},\n",
       " {rdflib.term.Variable('stateName'): rdflib.term.Literal('Wyoming')},\n",
       " {rdflib.term.Variable('stateName'): rdflib.term.Literal('District of Columbia')},\n",
       " {rdflib.term.Variable('stateName'): rdflib.term.Literal('American Samoa')},\n",
       " {rdflib.term.Variable('stateName'): rdflib.term.Literal('Guam')},\n",
       " {rdflib.term.Variable('stateName'): rdflib.term.Literal('Northern Mariana Islands')},\n",
       " {rdflib.term.Variable('stateName'): rdflib.term.Literal('Puerto Rico')},\n",
       " {rdflib.term.Variable('stateName'): rdflib.term.Literal('United States Minor Outlying Islands')},\n",
       " {rdflib.term.Variable('stateName'): rdflib.term.Literal('Virgin Islands, U.S.')}]"
      ]
     },
     "execution_count": 8,
     "metadata": {},
     "output_type": "execute_result"
    }
   ],
   "source": [
    "query_result.bindings"
   ]
  },
  {
   "cell_type": "code",
   "execution_count": null,
   "id": "76aced0b-5575-4e43-89f9-0e8a3ea936ae",
   "metadata": {},
   "outputs": [],
   "source": []
  }
 ],
 "metadata": {
  "kernelspec": {
   "display_name": "Python 3 (ipykernel)",
   "language": "python",
   "name": "python3"
  },
  "language_info": {
   "codemirror_mode": {
    "name": "ipython",
    "version": 3
   },
   "file_extension": ".py",
   "mimetype": "text/x-python",
   "name": "python",
   "nbconvert_exporter": "python",
   "pygments_lexer": "ipython3",
   "version": "3.10.2"
  }
 },
 "nbformat": 4,
 "nbformat_minor": 5
}
