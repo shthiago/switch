{
 "cells": [
  {
   "cell_type": "code",
   "execution_count": 2,
   "id": "76aced0b-5575-4e43-89f9-0e8a3ea936ae",
   "metadata": {},
   "outputs": [],
   "source": [
    "import sys\n",
    "sys.path.append('../')"
   ]
  },
  {
   "cell_type": "code",
   "execution_count": 3,
   "id": "bac7d788-503b-41b5-91db-a49191550012",
   "metadata": {},
   "outputs": [],
   "source": [
    "from transpiler import parser"
   ]
  },
  {
   "cell_type": "code",
   "execution_count": 4,
   "id": "7e12b3a2-bf13-403f-a027-de517e007f72",
   "metadata": {},
   "outputs": [],
   "source": [
    "from rdflib import Graph"
   ]
  },
  {
   "cell_type": "code",
   "execution_count": 5,
   "id": "e19ae3fb-cbb6-40bc-aa11-95d5d33004a6",
   "metadata": {},
   "outputs": [],
   "source": [
    "g = Graph()"
   ]
  },
  {
   "cell_type": "code",
   "execution_count": 6,
   "id": "edc0b704-b946-4ae9-8441-5edfdaff9290",
   "metadata": {},
   "outputs": [
    {
     "data": {
      "text/plain": [
       "<Graph identifier=N366aebb6411147d48b6fda06bf58073d (<class 'rdflib.graph.Graph'>)>"
      ]
     },
     "execution_count": 6,
     "metadata": {},
     "output_type": "execute_result"
    }
   ],
   "source": [
    "g.parse('dataset/dataset.rdf')"
   ]
  },
  {
   "cell_type": "code",
   "execution_count": 25,
   "id": "fdfa5620-39ac-4f2b-bf32-6e484dbb37b7",
   "metadata": {},
   "outputs": [
    {
     "data": {
      "text/plain": [
       "[]"
      ]
     },
     "execution_count": 25,
     "metadata": {},
     "output_type": "execute_result"
    }
   ],
   "source": [
    "query_result = g.query('''\n",
    "PREFIX b:<http://www.geonames.org/ontology#>\n",
    "PREFIX dct:<http://purl.org/dc/terms/>\n",
    "SELECT ?country (COUNT(?state) AS ?stateCount) WHERE {\n",
    "    ?country a b:Country .\n",
    "    ?country dct:hasPart ?state\n",
    "} GROUP BY ?country \n",
    "HAVING(?stateCount > 2)\n",
    "''')\n",
    "query_result.bindings"
   ]
  },
  {
   "cell_type": "code",
   "execution_count": 8,
   "id": "c1671b67-b6e9-46a1-bb4d-5812f244bdb8",
   "metadata": {},
   "outputs": [
    {
     "data": {
      "text/plain": [
       "244"
      ]
     },
     "execution_count": 8,
     "metadata": {},
     "output_type": "execute_result"
    }
   ],
   "source": [
    "len(query_result.bindings)"
   ]
  },
  {
   "cell_type": "code",
   "execution_count": null,
   "id": "4066f9d0-971d-4dfd-b201-b7086f261e45",
   "metadata": {},
   "outputs": [],
   "source": []
  },
  {
   "cell_type": "code",
   "execution_count": null,
   "id": "845d23a8-6fc7-4ec0-a4ac-ff3181433179",
   "metadata": {},
   "outputs": [],
   "source": []
  }
 ],
 "metadata": {
  "kernelspec": {
   "display_name": "Python 3 (ipykernel)",
   "language": "python",
   "name": "python3"
  },
  "language_info": {
   "codemirror_mode": {
    "name": "ipython",
    "version": 3
   },
   "file_extension": ".py",
   "mimetype": "text/x-python",
   "name": "python",
   "nbconvert_exporter": "python",
   "pygments_lexer": "ipython3",
   "version": "3.9.12"
  }
 },
 "nbformat": 4,
 "nbformat_minor": 5
}
