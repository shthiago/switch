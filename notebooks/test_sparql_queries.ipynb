{
 "cells": [
  {
   "cell_type": "code",
   "execution_count": 20,
   "id": "d8bb51d4-5748-4816-bfb3-eafd39ec68b2",
   "metadata": {},
   "outputs": [
    {
     "name": "stdout",
     "output_type": "stream",
     "text": [
      "\u001b[33mDEPRECATION: Configuring installation scheme with distutils config files is deprecated and will no longer work in the near future. If you are using a Homebrew or Linuxbrew Python, please see discussion at https://github.com/Homebrew/homebrew-core/issues/76621\u001b[0m\u001b[33m\n",
      "\u001b[0mRequirement already satisfied: rdflib in /opt/homebrew/lib/python3.9/site-packages (6.1.1)\n",
      "Requirement already satisfied: ply in /opt/homebrew/lib/python3.9/site-packages (3.11)\n",
      "Collecting loguru\n",
      "  Downloading loguru-0.6.0-py3-none-any.whl (58 kB)\n",
      "\u001b[2K     \u001b[38;2;114;156;31m━━━━━━━━━━━━━━━━━━━━━━━━━━━━━━━━━━━━━━━\u001b[0m \u001b[32m58.3/58.3 KB\u001b[0m \u001b[31m774.8 kB/s\u001b[0m eta \u001b[36m0:00:00\u001b[0mMB/s\u001b[0m eta \u001b[36m0:00:01\u001b[0m\n",
      "\u001b[?25hRequirement already satisfied: isodate in /opt/homebrew/lib/python3.9/site-packages (from rdflib) (0.6.1)\n",
      "Requirement already satisfied: pyparsing in /opt/homebrew/lib/python3.9/site-packages (from rdflib) (3.0.8)\n",
      "Requirement already satisfied: setuptools in /opt/homebrew/lib/python3.9/site-packages (from rdflib) (60.10.0)\n",
      "Requirement already satisfied: six in /opt/homebrew/lib/python3.9/site-packages (from isodate->rdflib) (1.16.0)\n",
      "Installing collected packages: loguru\n",
      "\u001b[33m  DEPRECATION: Configuring installation scheme with distutils config files is deprecated and will no longer work in the near future. If you are using a Homebrew or Linuxbrew Python, please see discussion at https://github.com/Homebrew/homebrew-core/issues/76621\u001b[0m\u001b[33m\n",
      "\u001b[0m\u001b[33mDEPRECATION: Configuring installation scheme with distutils config files is deprecated and will no longer work in the near future. If you are using a Homebrew or Linuxbrew Python, please see discussion at https://github.com/Homebrew/homebrew-core/issues/76621\u001b[0m\u001b[33m\n",
      "\u001b[0mSuccessfully installed loguru-0.6.0\n",
      "Note: you may need to restart the kernel to use updated packages.\n"
     ]
    }
   ],
   "source": [
    "%pip install rdflib ply loguru"
   ]
  },
  {
   "cell_type": "code",
   "execution_count": 2,
   "id": "76aced0b-5575-4e43-89f9-0e8a3ea936ae",
   "metadata": {},
   "outputs": [],
   "source": [
    "import sys\n",
    "sys.path.append('../')"
   ]
  },
  {
   "cell_type": "code",
   "execution_count": 3,
   "id": "bac7d788-503b-41b5-91db-a49191550012",
   "metadata": {},
   "outputs": [],
   "source": [
    "from transpiler import parser"
   ]
  },
  {
   "cell_type": "code",
   "execution_count": 4,
   "id": "7e12b3a2-bf13-403f-a027-de517e007f72",
   "metadata": {},
   "outputs": [],
   "source": [
    "from rdflib import Graph"
   ]
  },
  {
   "cell_type": "code",
   "execution_count": 5,
   "id": "e19ae3fb-cbb6-40bc-aa11-95d5d33004a6",
   "metadata": {},
   "outputs": [],
   "source": [
    "g = Graph()"
   ]
  },
  {
   "cell_type": "code",
   "execution_count": 6,
   "id": "edc0b704-b946-4ae9-8441-5edfdaff9290",
   "metadata": {},
   "outputs": [
    {
     "data": {
      "text/plain": [
       "<Graph identifier=N513f1f253b58460aa78234d9b4af4832 (<class 'rdflib.graph.Graph'>)>"
      ]
     },
     "execution_count": 6,
     "metadata": {},
     "output_type": "execute_result"
    }
   ],
   "source": [
    "g.parse('dataset/dataset.rdf')"
   ]
  },
  {
   "cell_type": "code",
   "execution_count": 7,
   "id": "fdfa5620-39ac-4f2b-bf32-6e484dbb37b7",
   "metadata": {},
   "outputs": [
    {
     "data": {
      "text/plain": [
       "{rdflib.term.Variable('s'): rdflib.term.URIRef('http://ontologi.es/place/RU-KEM'), rdflib.term.Variable('p'): rdflib.term.URIRef('http://www.geonames.org/ontology#parentFeature'), rdflib.term.Variable('o'): rdflib.term.URIRef('http://ontologi.es/place/RU')}"
      ]
     },
     "execution_count": 7,
     "metadata": {},
     "output_type": "execute_result"
    }
   ],
   "source": [
    "query_result = g.query('''\n",
    "    SELECT * WHERE {\n",
    "        ?s ?p ?o\n",
    "    }\n",
    "''')\n",
    "'''\n",
    "MATCH (s)\n",
    "UNWIND [key in keys(s) | [s, key, s[key]]]\n",
    "    + [(s)-[p]-(o) | [s, p, o]] AS triples\n",
    "WITH s as s, triples[1] AS p, triples[2] AS o\n",
    "RETURN *\n",
    "'''\n",
    "\n",
    "query_result.bindings[0]"
   ]
  },
  {
   "cell_type": "code",
   "execution_count": 8,
   "id": "2840e4ff-3c12-4aa9-a386-f73ba87de934",
   "metadata": {},
   "outputs": [
    {
     "data": {
      "text/plain": [
       "{rdflib.term.Variable('s'): rdflib.term.URIRef('http://ontologi.es/place/RU-KEM'), rdflib.term.Variable('p'): rdflib.term.URIRef('http://www.geonames.org/ontology#parentFeature'), rdflib.term.Variable('o'): rdflib.term.URIRef('http://ontologi.es/place/RU')}"
      ]
     },
     "execution_count": 8,
     "metadata": {},
     "output_type": "execute_result"
    }
   ],
   "source": [
    "query_result = g.query('''\n",
    "    SELECT * WHERE {\n",
    "        ?s ?p ?o\n",
    "    }\n",
    "''')\n",
    "'''\n",
    "MATCH (s)\n",
    "UNWIND [key in keys(s) | [s, key, s[key]]]\n",
    "    + [(s)-[p]-(o) | [s, p, o]] AS triples\n",
    "WITH s as s, triples[1] AS p, triples[2] AS o\n",
    "RETURN s, p, o\n",
    "'''\n",
    "\n",
    "query_result.bindings[0]"
   ]
  },
  {
   "cell_type": "code",
   "execution_count": null,
   "id": "4066f9d0-971d-4dfd-b201-b7086f261e45",
   "metadata": {},
   "outputs": [],
   "source": []
  },
  {
   "cell_type": "code",
   "execution_count": 9,
   "id": "27000be7-a2c5-4bad-b0b7-29aa28c4c532",
   "metadata": {},
   "outputs": [
    {
     "data": {
      "text/plain": [
       "'\\nMATCH (slot1)\\nWHERE\\n    slot1.uri = \"http://ontologi.es/place/BR\"\\nUNWIND [key in keys(slot1) WHERE key = n10s.rdf.shortFormFromFullUri(\"http://purl.org/dc/terms/\") + \"hasPart\" | [slot1, key, slot1[key]]] \\n    + [(slot1)-[relation]->(brazilState) WHERE type(relation) = n10s.rdf.shortFormFromFullUri(\"http://purl.org/dc/terms/\") + \"hasPart\" | [slot1, relation, brazilState]] as triples\\n\\nWITH slot1 as slot1, triples[2] as brazilState\\nUNWIND [key in keys(brazilState) WHERE key = n10s.rdf.shortFormFromFullUri(\"http://www.w3.org/2000/01/rdf-schema#\") + \"label\" | [brazilState, key, brazilState[key]]]\\n    + [(brazilState)-[relation]->(brazilStateName) WHERE type(relation) = n10s.rdf.shortFormFromFullUri(\"http://www.w3.org/2000/01/rdf-schema#\") + \"label\" | [brazilState, relation, brazilStateName]] as triples\\n\\nWITH slot1 as slot1, brazilState as brazilState, triples[2] as brazilStateName\\nRETURN brazilStateName\\n'"
      ]
     },
     "execution_count": 9,
     "metadata": {},
     "output_type": "execute_result"
    }
   ],
   "source": [
    "query_result = g.query('''\n",
    "    PREFIX :<http://ontologi.es/place/>\n",
    "    PREFIX dct:<http://purl.org/dc/terms/>\n",
    "    PREFIX rdfs:<http://www.w3.org/2000/01/rdf-schema#>\n",
    "    SELECT ?brazilState WHERE {\n",
    "        :BR dct:hasPart ?brazilState .\n",
    "        ?brazilState rdfs:label ?brazilStateName\n",
    "    }\n",
    "''')\n",
    "\n",
    "\"\"\"\n",
    "MATCH (slot1)\n",
    "WHERE\n",
    "    slot1.uri = \"http://ontologi.es/place/BR\"\n",
    "UNWIND [key in keys(slot1) WHERE key = n10s.rdf.shortFormFromFullUri(\"http://purl.org/dc/terms/\") + \"hasPart\" | [slot1, key, slot1[key]]] \n",
    "    + [(slot1)-[relation]->(brazilState) WHERE type(relation) = n10s.rdf.shortFormFromFullUri(\"http://purl.org/dc/terms/\") + \"hasPart\" | [slot1, relation, brazilState]] as triples\n",
    "\n",
    "WITH slot1 as slot1, triples[2] as brazilState\n",
    "UNWIND [key in keys(brazilState) WHERE key = n10s.rdf.shortFormFromFullUri(\"http://www.w3.org/2000/01/rdf-schema#\") + \"label\" | [brazilState, key, brazilState[key]]]\n",
    "    + [(brazilState)-[relation]->(brazilStateName) WHERE type(relation) = n10s.rdf.shortFormFromFullUri(\"http://www.w3.org/2000/01/rdf-schema#\") + \"label\" | [brazilState, relation, brazilStateName]] as triples\n",
    "\n",
    "WITH slot1 as slot1, brazilState as brazilState, triples[2] as brazilStateName\n",
    "RETURN brazilStateName\n",
    "\"\"\""
   ]
  },
  {
   "cell_type": "code",
   "execution_count": 10,
   "id": "97587a80-3706-43d3-8731-3bacc2288e73",
   "metadata": {},
   "outputs": [
    {
     "data": {
      "text/plain": [
       "'\\nMATCH (slot1)\\nWHERE\\n    slot1.uri = \"http://ontologi.es/place/BR\"\\nUNWIND [key in keys(slot1) WHERE key = n10s.rdf.shortFormFromFullUri(\"http://purl.org/dc/terms/\") + \"hasPart\" | [slot1, key, slot1[key]]] \\n    + [(slot1)-[relation]->(brazilState) WHERE type(relation) = n10s.rdf.shortFormFromFullUri(\"http://purl.org/dc/terms/\") + \"hasPart\" | [slot1, relation, brazilState]] as triples\\n\\nWITH slot1 as slot1, triples[2] as brazilState\\nUNWIND [key in keys(brazilState) WHERE key = n10s.rdf.shortFormFromFullUri(\"http://www.w3.org/2000/01/rdf-schema#\") + \"label\" | [brazilState, key, brazilState[key]]]\\n    + [(brazilState)-[relation]->(brazilStateName) WHERE type(relation) = n10s.rdf.shortFormFromFullUri(\"http://www.w3.org/2000/01/rdf-schema#\") + \"label\" | [brazilState, relation, brazilStateName]] as triples\\n\\nWITH slot1 as slot1, brazilState as brazilState, triples[2] as stateName\\nRETURN stateName\\n\\nUNION\\n\\nMATCH (slot1)\\nWHERE\\n    slot1.uri = \"http://ontologi.es/place/US\"\\nUNWIND [key in keys(slot1) WHERE key = n10s.rdf.shortFormFromFullUri(\"http://purl.org/dc/terms/\") + \"hasPart\" | [slot1, key, slot1[key]]] \\n    + [(slot1)-[relation]->(usaState) WHERE type(relation) = n10s.rdf.shortFormFromFullUri(\"http://purl.org/dc/terms/\") + \"hasPart\" | [slot1, relation, usaState]] as triples\\n\\nWITH slot1 as slot1, triples[2] as usaState\\nUNWIND [key in keys(usaState) WHERE key = n10s.rdf.shortFormFromFullUri(\"http://www.w3.org/2000/01/rdf-schema#\") + \"label\" | [usaState, key, usaState[key]]]\\n    + [(usaState)-[relation]->(stateName) WHERE type(relation) = n10s.rdf.shortFormFromFullUri(\"http://www.w3.org/2000/01/rdf-schema#\") + \"label\" | [usaState, relation, stateName]] as triples\\n\\nWITH slot1 as slot1, usaState as usaState, triples[2] as stateName\\nRETURN stateName\\n'"
      ]
     },
     "execution_count": 10,
     "metadata": {},
     "output_type": "execute_result"
    }
   ],
   "source": [
    "query_result = g.query('''\n",
    "    PREFIX :<http://ontologi.es/place/>\n",
    "    PREFIX dct:<http://purl.org/dc/terms/>\n",
    "    PREFIX rdfs:<http://www.w3.org/2000/01/rdf-schema#>\n",
    "    SELECT ?stateName WHERE {\n",
    "        {\n",
    "            :BR dct:hasPart ?brazilState .\n",
    "            ?brazilState rdfs:label ?stateName\n",
    "        } UNION {\n",
    "            :US dct:hasPart ?usaState .\n",
    "            ?usaState rdfs:label ?stateName\n",
    "        }\n",
    "    }\n",
    "''')\n",
    "\n",
    "\"\"\"\n",
    "MATCH (slot1)\n",
    "WHERE\n",
    "    slot1.uri = \"http://ontologi.es/place/BR\"\n",
    "UNWIND [key in keys(slot1) WHERE key = n10s.rdf.shortFormFromFullUri(\"http://purl.org/dc/terms/\") + \"hasPart\" | [slot1, key, slot1[key]]] \n",
    "    + [(slot1)-[relation]->(brazilState) WHERE type(relation) = n10s.rdf.shortFormFromFullUri(\"http://purl.org/dc/terms/\") + \"hasPart\" | [slot1, relation, brazilState]] as triples\n",
    "\n",
    "WITH slot1 as slot1, triples[2] as brazilState\n",
    "UNWIND [key in keys(brazilState) WHERE key = n10s.rdf.shortFormFromFullUri(\"http://www.w3.org/2000/01/rdf-schema#\") + \"label\" | [brazilState, key, brazilState[key]]]\n",
    "    + [(brazilState)-[relation]->(brazilStateName) WHERE type(relation) = n10s.rdf.shortFormFromFullUri(\"http://www.w3.org/2000/01/rdf-schema#\") + \"label\" | [brazilState, relation, brazilStateName]] as triples\n",
    "\n",
    "WITH slot1 as slot1, brazilState as brazilState, triples[2] as stateName\n",
    "RETURN stateName\n",
    "\n",
    "UNION\n",
    "\n",
    "MATCH (slot1)\n",
    "WHERE\n",
    "    slot1.uri = \"http://ontologi.es/place/US\"\n",
    "UNWIND [key in keys(slot1) WHERE key = n10s.rdf.shortFormFromFullUri(\"http://purl.org/dc/terms/\") + \"hasPart\" | [slot1, key, slot1[key]]] \n",
    "    + [(slot1)-[relation]->(usaState) WHERE type(relation) = n10s.rdf.shortFormFromFullUri(\"http://purl.org/dc/terms/\") + \"hasPart\" | [slot1, relation, usaState]] as triples\n",
    "\n",
    "WITH slot1 as slot1, triples[2] as usaState\n",
    "UNWIND [key in keys(usaState) WHERE key = n10s.rdf.shortFormFromFullUri(\"http://www.w3.org/2000/01/rdf-schema#\") + \"label\" | [usaState, key, usaState[key]]]\n",
    "    + [(usaState)-[relation]->(stateName) WHERE type(relation) = n10s.rdf.shortFormFromFullUri(\"http://www.w3.org/2000/01/rdf-schema#\") + \"label\" | [usaState, relation, stateName]] as triples\n",
    "\n",
    "WITH slot1 as slot1, usaState as usaState, triples[2] as stateName\n",
    "RETURN stateName\n",
    "\"\"\""
   ]
  },
  {
   "cell_type": "code",
   "execution_count": 11,
   "id": "d1815ac6-86ee-4240-b4d1-f2339d562157",
   "metadata": {},
   "outputs": [
    {
     "data": {
      "text/plain": [
       "'\\nMATCH (brazilState)\\nUNWIND [key in keys(brazilState) WHERE key = n10s.rdf.shortFormFromFullUri(\"http://www.w3.org/2000/01/rdf-schema#\") + \"label\" | [brazilState, key, brazilState[key]]]\\n    + [(brazilState)-[relation]->(stateName) WHERE type(relation) = n10s.rdf.shortFormFromFullUri(\"http://www.w3.org/2000/01/rdf-schema#\") + \"label\" | [brazilState, relation, stateName]] AS triples\\nWITH triples[2] as stateName, brazilState AS brazilState\\n\\nUNWIND [(slot1)--(__) WHERE slot1.uri = \"http://ontologi.es/place/BR\" | [slot1]] as slot1\\nWITH slot1[0] AS slot1, stateName as stateName, brazilState as brazilState\\n\\nUNWIND [key in keys(slot1) WHERE key = n10s.rdf.shortFormFromFullUri(\"http://purl.org/dc/terms/\") + \"hasPart\" | [slot1, key, slot1[key]]] \\n    + [(slot1)-[relation]->(brazilState) WHERE type(relation) = n10s.rdf.shortFormFromFullUri(\"http://purl.org/dc/terms/\") + \"hasPart\" | [slot1, relation, brazilState]] as triples\\n\\nWITH slot1 as slot1, brazilState as brazilState, triples[2] as stateName\\nRETURN stateName\\n'"
      ]
     },
     "execution_count": 11,
     "metadata": {},
     "output_type": "execute_result"
    }
   ],
   "source": [
    "query_result = g.query('''\n",
    "    PREFIX :<http://ontologi.es/place/>\n",
    "    PREFIX dct:<http://purl.org/dc/terms/>\n",
    "    PREFIX rdfs:<http://www.w3.org/2000/01/rdf-schema#>\n",
    "    SELECT ?stateName WHERE {\n",
    "        ?brazilState rdfs:label ?stateName .\n",
    "        :BR dct:hasPart ?brazilState\n",
    "    }\n",
    "''')\n",
    "\n",
    "'''\n",
    "MATCH (brazilState)\n",
    "UNWIND [key in keys(brazilState) WHERE key = n10s.rdf.shortFormFromFullUri(\"http://www.w3.org/2000/01/rdf-schema#\") + \"label\" | [brazilState, key, brazilState[key]]]\n",
    "    + [(brazilState)-[relation]->(stateName) WHERE type(relation) = n10s.rdf.shortFormFromFullUri(\"http://www.w3.org/2000/01/rdf-schema#\") + \"label\" | [brazilState, relation, stateName]] AS triples\n",
    "WITH triples[2] as stateName, brazilState AS brazilState\n",
    "\n",
    "MATCH (_tmp)\n",
    "WHERE\n",
    "    _tmp.uri = \"http://ontologi.es/place/BR\"\n",
    "WITH _tmp AS BR, stateName as stateName, brazilState as brazilState\n",
    "\n",
    "UNWIND [key in keys(BR) WHERE key = n10s.rdf.shortFormFromFullUri(\"http://purl.org/dc/terms/\") + \"hasPart\" | [BR, key, BR[key]]] \n",
    "    + [(BR)-[relation]->(brazilState) WHERE type(relation) = n10s.rdf.shortFormFromFullUri(\"http://purl.org/dc/terms/\") + \"hasPart\" | [BR, relation, brazilState]] as triples\n",
    "\n",
    "WITH stateName as stateName, triples[2] as brazilState\n",
    "RETURN stateName\n",
    "'''"
   ]
  },
  {
   "cell_type": "code",
   "execution_count": 19,
   "id": "1cea13cf-2220-4549-aa14-eac169df28a6",
   "metadata": {},
   "outputs": [
    {
     "data": {
      "text/plain": [
       "[{rdflib.term.Variable('stateName'): rdflib.term.Literal('Distrito Federal')},\n",
       " {rdflib.term.Variable('stateName'): rdflib.term.Literal('Acre')},\n",
       " {rdflib.term.Variable('stateName'): rdflib.term.Literal('Alagoas')},\n",
       " {rdflib.term.Variable('stateName'): rdflib.term.Literal('Amapá')},\n",
       " {rdflib.term.Variable('stateName'): rdflib.term.Literal('Amazonas')},\n",
       " {rdflib.term.Variable('stateName'): rdflib.term.Literal('Bahia')},\n",
       " {rdflib.term.Variable('stateName'): rdflib.term.Literal('Ceará')},\n",
       " {rdflib.term.Variable('stateName'): rdflib.term.Literal('Espírito Santo')},\n",
       " {rdflib.term.Variable('stateName'): rdflib.term.Literal('Goiás')},\n",
       " {rdflib.term.Variable('stateName'): rdflib.term.Literal('Maranhāo')},\n",
       " {rdflib.term.Variable('stateName'): rdflib.term.Literal('Mato Grosso')},\n",
       " {rdflib.term.Variable('stateName'): rdflib.term.Literal('Mato Grosso do Sul')},\n",
       " {rdflib.term.Variable('stateName'): rdflib.term.Literal('Minas Gerais')},\n",
       " {rdflib.term.Variable('stateName'): rdflib.term.Literal('Pará')},\n",
       " {rdflib.term.Variable('stateName'): rdflib.term.Literal('Paraíba')},\n",
       " {rdflib.term.Variable('stateName'): rdflib.term.Literal('Paraná')},\n",
       " {rdflib.term.Variable('stateName'): rdflib.term.Literal('Pernambuco')},\n",
       " {rdflib.term.Variable('stateName'): rdflib.term.Literal('Piauí')},\n",
       " {rdflib.term.Variable('stateName'): rdflib.term.Literal('Rio de Janeiro')},\n",
       " {rdflib.term.Variable('stateName'): rdflib.term.Literal('Rio Grande do Norte')},\n",
       " {rdflib.term.Variable('stateName'): rdflib.term.Literal('Rio Grande do Sul')},\n",
       " {rdflib.term.Variable('stateName'): rdflib.term.Literal('Rondônia')},\n",
       " {rdflib.term.Variable('stateName'): rdflib.term.Literal('Roraima')},\n",
       " {rdflib.term.Variable('stateName'): rdflib.term.Literal('Santa Catarina')},\n",
       " {rdflib.term.Variable('stateName'): rdflib.term.Literal('São Paulo')},\n",
       " {rdflib.term.Variable('stateName'): rdflib.term.Literal('Sergipe')},\n",
       " {rdflib.term.Variable('stateName'): rdflib.term.Literal('Tocantins')}]"
      ]
     },
     "execution_count": 19,
     "metadata": {},
     "output_type": "execute_result"
    }
   ],
   "source": [
    "query_result = g.query('''\n",
    "    PREFIX :<http://ontologi.es/place/>\n",
    "    PREFIX dct:<http://purl.org/dc/terms/>\n",
    "    PREFIX rdfs:<http://www.w3.org/2000/01/rdf-schema#>\n",
    "    SELECT ?stateName WHERE {\n",
    "        ?brazil dct:hasPart ?brazilState .\n",
    "        ?brazilState rdfs:label ?stateName .\n",
    "        ?brazil rdfs:label \"Brazil\"\n",
    "    }\n",
    "''')\n",
    "\n",
    "'''\n",
    "MATCH (brazil)\n",
    "\n",
    "UNWIND [key in keys(brazil) WHERE key = n10s.rdf.shortFormFromFullUri(\"http://purl.org/dc/terms/\") + \"hasPart\" | [brazil, key, brazil[key]]]\n",
    "    + [(brazil)-[relation]->(brazilState) WHERE type(relation) = n10s.rdf.shortFormFromFullUri(\"http://purl.org/dc/terms/\") + \"hasPart\" | [brazil, relation, brazilState]] as triples\n",
    "    \n",
    "WITH triples[2] as brazilState, brazil as brazil\n",
    "\n",
    "UNWIND [key in keys(brazilState) WHERE key = n10s.rdf.shortFormFromFullUri(\"http://www.w3.org/2000/01/rdf-schema#\") + \"label\" | [brazilState, key, brazilState[key]]]\n",
    "    + [(brazilState)-[relation]-(stateName) WHERE type(relation) = n10s.rdf.shortFormFromFullUri(\"http://www.w3.org/2000/01/rdf-schema#\") + \"label\" | [brazilState, relation, stateName]] as triples\n",
    "    \n",
    "WITH brazilState as brazilState, triples[2] as stateName, brazil as brazil\n",
    "\n",
    "UNWIND [key in keys(brazil) WHERE key = n10s.rdf.shortFormFromFullUri(\"http://www.w3.org/2000/01/rdf-schema#\") + \"label\" AND brazil[key] = \"Brazil\" | [brazil, key, brazil[key]]] as triples\n",
    "\n",
    "WITH brazilState as brazilState, brazil as brazil, stateName as stateName\n",
    "\n",
    "RETURN stateName\n",
    "'''\n",
    "\n",
    "query_result.bindings"
   ]
  },
  {
   "cell_type": "code",
   "execution_count": 12,
   "id": "2c250871-4dad-4881-a8f3-f148495a58be",
   "metadata": {},
   "outputs": [],
   "source": [
    "parser = parser.SelectSparqlParser()"
   ]
  },
  {
   "cell_type": "code",
   "execution_count": 15,
   "id": "3c43caf3-11c2-4bf2-83ca-413ac83fd460",
   "metadata": {},
   "outputs": [],
   "source": [
    "query = parser.parse('''SELECT * WHERE {\n",
    "        ?s ?p ?o\n",
    "    }'''\n",
    ")"
   ]
  },
  {
   "cell_type": "code",
   "execution_count": 16,
   "id": "ceafc9a6-0ba9-480d-8820-c0a94971248f",
   "metadata": {},
   "outputs": [
    {
     "data": {
      "text/plain": [
       "Query(mandatory=GraphPattern(and_triples=[Triple(subject='?s', predicate='?p', object='?o')], or_blocks=[], filters=[], minus=[], optionals=[]), variables=[Var(name='?s'), Var(name='?p'), Var(name='?o')], modifiers=ModifiersNode(group=None, having=None, order=None, limit=None, offset=None), namespaces=[], returning=[SelectedVar(value='*', alias=None)])"
      ]
     },
     "execution_count": 16,
     "metadata": {},
     "output_type": "execute_result"
    }
   ],
   "source": [
    "query"
   ]
  },
  {
   "cell_type": "code",
   "execution_count": null,
   "id": "412a4d61-517e-47f1-8142-7cbb9dcef637",
   "metadata": {},
   "outputs": [],
   "source": [
    "def is_variable(input_: str) -> bool:\n",
    "    return input_[0] == '?'\n",
    "\n",
    "def sparql_var_to_cypher(input_: str) -> str:\n",
    "    assert is_variable(input_)\n",
    "    \n",
    "    return input_[1:]\n",
    "\n",
    "def sparql_uri_to_cypher(input_: str) -> str:\n",
    "    return _input.split(':')[1]\n",
    "\n",
    "def \n",
    "\n",
    "def triple_to_unwind(triple):\n",
    "    if is_variable(triple.subject):\n",
    "        subject = sparql_var_to_cypher(triple.subject)\n",
    "    \n",
    "    else:\n",
    "        subject = sparql_uri_to_cypher(triple.subject)\n",
    "        \n",
    "    \n",
    "    \n",
    "    base_prop_case = f'[key in keys({subject}) {where_filter}| [{subject}, key, {subject}[key]]]'\n",
    "    \n",
    "    '''UNWIND [key in keys(BR) WHERE key = n10s.rdf.shortFormFromFullUri(\"http://purl.org/dc/terms/\") + \"hasPart\" | [BR, key, BR[key]]] \n",
    "    + [(BR)-[relation]->(brazilState) WHERE type(relation) = n10s.rdf.shortFormFromFullUri(\"http://purl.org/dc/terms/\") + \"hasPart\" | [BR, relation, brazilState]] as triples'''"
   ]
  }
 ],
 "metadata": {
  "kernelspec": {
   "display_name": "Python 3 (ipykernel)",
   "language": "python",
   "name": "python3"
  },
  "language_info": {
   "codemirror_mode": {
    "name": "ipython",
    "version": 3
   },
   "file_extension": ".py",
   "mimetype": "text/x-python",
   "name": "python",
   "nbconvert_exporter": "python",
   "pygments_lexer": "ipython3",
   "version": "3.9.12"
  }
 },
 "nbformat": 4,
 "nbformat_minor": 5
}
