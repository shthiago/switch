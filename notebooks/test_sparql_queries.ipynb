{
 "cells": [
  {
   "cell_type": "code",
   "execution_count": 1,
   "id": "d8bb51d4-5748-4816-bfb3-eafd39ec68b2",
   "metadata": {},
   "outputs": [
    {
     "name": "stdout",
     "output_type": "stream",
     "text": [
      "Defaulting to user installation because normal site-packages is not writeable\n",
      "Requirement already satisfied: rdflib in /home/takato/.local/lib/python3.10/site-packages (6.1.1)\n",
      "Requirement already satisfied: ply in /usr/lib/python3.10/site-packages (3.11)\n",
      "Requirement already satisfied: loguru in /home/takato/.local/lib/python3.10/site-packages (0.5.3)\n",
      "Requirement already satisfied: setuptools in /usr/lib/python3.10/site-packages (from rdflib) (59.3.0)\n",
      "Requirement already satisfied: isodate in /home/takato/.local/lib/python3.10/site-packages (from rdflib) (0.6.1)\n",
      "Requirement already satisfied: pyparsing in /usr/lib/python3.10/site-packages (from rdflib) (3.0.1)\n",
      "Requirement already satisfied: six in /usr/lib/python3.10/site-packages (from isodate->rdflib) (1.16.0)\n",
      "\u001b[33mWARNING: You are using pip version 21.3.1; however, version 22.0.4 is available.\n",
      "You should consider upgrading via the '/usr/bin/python -m pip install --upgrade pip' command.\u001b[0m\n",
      "Note: you may need to restart the kernel to use updated packages.\n"
     ]
    }
   ],
   "source": [
    "%pip install rdflib ply loguru"
   ]
  },
  {
   "cell_type": "code",
   "execution_count": 2,
   "id": "76aced0b-5575-4e43-89f9-0e8a3ea936ae",
   "metadata": {},
   "outputs": [],
   "source": [
    "import sys\n",
    "sys.path.append('../')"
   ]
  },
  {
   "cell_type": "code",
   "execution_count": 3,
   "id": "bac7d788-503b-41b5-91db-a49191550012",
   "metadata": {},
   "outputs": [],
   "source": [
    "from transpiler import parser"
   ]
  },
  {
   "cell_type": "code",
   "execution_count": 4,
   "id": "7e12b3a2-bf13-403f-a027-de517e007f72",
   "metadata": {},
   "outputs": [],
   "source": [
    "from rdflib import Graph"
   ]
  },
  {
   "cell_type": "code",
   "execution_count": 5,
   "id": "e19ae3fb-cbb6-40bc-aa11-95d5d33004a6",
   "metadata": {},
   "outputs": [],
   "source": [
    "g = Graph()"
   ]
  },
  {
   "cell_type": "code",
   "execution_count": 6,
   "id": "edc0b704-b946-4ae9-8441-5edfdaff9290",
   "metadata": {},
   "outputs": [
    {
     "data": {
      "text/plain": [
       "<Graph identifier=Nf43818acf536478c85fca15196b5ae9b (<class 'rdflib.graph.Graph'>)>"
      ]
     },
     "execution_count": 6,
     "metadata": {},
     "output_type": "execute_result"
    }
   ],
   "source": [
    "g.parse('dataset/dataset.rdf')"
   ]
  },
  {
   "cell_type": "code",
   "execution_count": 7,
   "id": "fdfa5620-39ac-4f2b-bf32-6e484dbb37b7",
   "metadata": {},
   "outputs": [
    {
     "data": {
      "text/plain": [
       "{rdflib.term.Variable('s'): rdflib.term.URIRef('http://ontologi.es/place/GY-ES'), rdflib.term.Variable('p'): rdflib.term.URIRef('http://www.geonames.org/ontology#inCountry'), rdflib.term.Variable('o'): rdflib.term.URIRef('http://ontologi.es/place/GY')}"
      ]
     },
     "execution_count": 7,
     "metadata": {},
     "output_type": "execute_result"
    }
   ],
   "source": [
    "query_result = g.query('''\n",
    "    SELECT * WHERE {\n",
    "        ?s ?p ?o\n",
    "    }\n",
    "''')\n",
    "'''\n",
    "MATCH (s)\n",
    "UNWIND [key in keys(s) | [s, key, s[key]]]\n",
    "    + [(s)-[p]-(o) | [s, p, o]] AS triples\n",
    "WITH s as s, triples[1] AS p, triples[2] AS o\n",
    "RETURN *\n",
    "'''\n",
    "\n",
    "query_result.bindings[0]"
   ]
  },
  {
   "cell_type": "code",
   "execution_count": 8,
   "id": "2840e4ff-3c12-4aa9-a386-f73ba87de934",
   "metadata": {},
   "outputs": [
    {
     "ename": "SyntaxError",
     "evalue": "invalid syntax (952417102.py, line 18)",
     "output_type": "error",
     "traceback": [
      "\u001b[0;36m  Input \u001b[0;32mIn [8]\u001b[0;36m\u001b[0m\n\u001b[0;31m    RETURN s, p, o\u001b[0m\n\u001b[0m           ^\u001b[0m\n\u001b[0;31mSyntaxError\u001b[0m\u001b[0;31m:\u001b[0m invalid syntax\n"
     ]
    }
   ],
   "source": [
    "query_result = g.query('''\n",
    "    SELECT * WHERE {\n",
    "        ?s ?p ?o\n",
    "    }\n",
    "''')\n",
    "'''\n",
    "MATCH (s)\n",
    "\n",
    "UNWIND [key in keys(s) | [s, key, s[key]]]\n",
    "    + [(s)-[p]-(o) | [s, p, o]] AS triples\n",
    "    \n",
    "WITH triples[0] as s, triples[1] AS p, triples[2] AS o\n",
    "\n",
    "RETURN s, p, o\n",
    "'''\n",
    "\n",
    "\n",
    "query_result.bindings[0]"
   ]
  },
  {
   "cell_type": "code",
   "execution_count": null,
   "id": "4066f9d0-971d-4dfd-b201-b7086f261e45",
   "metadata": {},
   "outputs": [],
   "source": []
  },
  {
   "cell_type": "code",
   "execution_count": 9,
   "id": "27000be7-a2c5-4bad-b0b7-29aa28c4c532",
   "metadata": {},
   "outputs": [
    {
     "data": {
      "text/plain": [
       "[{rdflib.term.Variable('brazilStateName'): rdflib.term.Literal('Distrito Federal')},\n",
       " {rdflib.term.Variable('brazilStateName'): rdflib.term.Literal('Acre')},\n",
       " {rdflib.term.Variable('brazilStateName'): rdflib.term.Literal('Alagoas')},\n",
       " {rdflib.term.Variable('brazilStateName'): rdflib.term.Literal('Amapá')},\n",
       " {rdflib.term.Variable('brazilStateName'): rdflib.term.Literal('Amazonas')},\n",
       " {rdflib.term.Variable('brazilStateName'): rdflib.term.Literal('Bahia')},\n",
       " {rdflib.term.Variable('brazilStateName'): rdflib.term.Literal('Ceará')},\n",
       " {rdflib.term.Variable('brazilStateName'): rdflib.term.Literal('Espírito Santo')},\n",
       " {rdflib.term.Variable('brazilStateName'): rdflib.term.Literal('Goiás')},\n",
       " {rdflib.term.Variable('brazilStateName'): rdflib.term.Literal('Maranhāo')},\n",
       " {rdflib.term.Variable('brazilStateName'): rdflib.term.Literal('Mato Grosso')},\n",
       " {rdflib.term.Variable('brazilStateName'): rdflib.term.Literal('Mato Grosso do Sul')},\n",
       " {rdflib.term.Variable('brazilStateName'): rdflib.term.Literal('Minas Gerais')},\n",
       " {rdflib.term.Variable('brazilStateName'): rdflib.term.Literal('Pará')},\n",
       " {rdflib.term.Variable('brazilStateName'): rdflib.term.Literal('Paraíba')},\n",
       " {rdflib.term.Variable('brazilStateName'): rdflib.term.Literal('Paraná')},\n",
       " {rdflib.term.Variable('brazilStateName'): rdflib.term.Literal('Pernambuco')},\n",
       " {rdflib.term.Variable('brazilStateName'): rdflib.term.Literal('Piauí')},\n",
       " {rdflib.term.Variable('brazilStateName'): rdflib.term.Literal('Rio de Janeiro')},\n",
       " {rdflib.term.Variable('brazilStateName'): rdflib.term.Literal('Rio Grande do Norte')},\n",
       " {rdflib.term.Variable('brazilStateName'): rdflib.term.Literal('Rio Grande do Sul')},\n",
       " {rdflib.term.Variable('brazilStateName'): rdflib.term.Literal('Rondônia')},\n",
       " {rdflib.term.Variable('brazilStateName'): rdflib.term.Literal('Roraima')},\n",
       " {rdflib.term.Variable('brazilStateName'): rdflib.term.Literal('Santa Catarina')},\n",
       " {rdflib.term.Variable('brazilStateName'): rdflib.term.Literal('São Paulo')},\n",
       " {rdflib.term.Variable('brazilStateName'): rdflib.term.Literal('Sergipe')},\n",
       " {rdflib.term.Variable('brazilStateName'): rdflib.term.Literal('Tocantins')}]"
      ]
     },
     "execution_count": 9,
     "metadata": {},
     "output_type": "execute_result"
    }
   ],
   "source": [
    "query_result = g.query('''\n",
    "    PREFIX :<http://ontologi.es/place/>\n",
    "    PREFIX dct:<http://purl.org/dc/terms/>\n",
    "    PREFIX rdfs:<http://www.w3.org/2000/01/rdf-schema#>\n",
    "    SELECT ?brazilStateName WHERE {\n",
    "        :BR dct:hasPart ?brazilState .\n",
    "        ?brazilState rdfs:label ?brazilStateName\n",
    "    }\n",
    "''')\n",
    "\n",
    "\"\"\"\n",
    "MATCH (slot1)\n",
    "WHERE\n",
    "    slot1.uri = \"http://ontologi.es/place/BR\"\n",
    "UNWIND [key in keys(slot1) WHERE key = n10s.rdf.shortFormFromFullUri(\"http://purl.org/dc/terms/\") + \"hasPart\" | [slot1, key, slot1[key]]] \n",
    "    + [(slot1)-[relation]->(brazilState) WHERE type(relation) = n10s.rdf.shortFormFromFullUri(\"http://purl.org/dc/terms/\") + \"hasPart\" | [slot1, relation, brazilState]] as triples\n",
    "\n",
    "WITH slot1 as slot1, triples[2] as brazilState\n",
    "\n",
    "UNWIND [key in keys(brazilState) WHERE key = n10s.rdf.shortFormFromFullUri(\"http://www.w3.org/2000/01/rdf-schema#\") + \"label\" | [brazilState, key, brazilState[key]]]\n",
    "    + [(brazilState)-[relation]->(brazilStateName) WHERE type(relation) = n10s.rdf.shortFormFromFullUri(\"http://www.w3.org/2000/01/rdf-schema#\") + \"label\" | [brazilState, relation, brazilStateName]] as triples\n",
    "\n",
    "WITH slot1 as slot1, brazilState as brazilState, triples[2] as brazilStateName\n",
    "RETURN brazilStateName\n",
    "\"\"\"\n",
    "\n",
    "query_result.bindings"
   ]
  },
  {
   "cell_type": "code",
   "execution_count": null,
   "id": "97587a80-3706-43d3-8731-3bacc2288e73",
   "metadata": {},
   "outputs": [],
   "source": [
    "query_result = g.query('''\n",
    "    PREFIX :<http://ontologi.es/place/>\n",
    "    PREFIX dct:<http://purl.org/dc/terms/>\n",
    "    PREFIX rdfs:<http://www.w3.org/2000/01/rdf-schema#>\n",
    "    SELECT ?stateName WHERE {\n",
    "        {\n",
    "            :BR dct:hasPart ?brazilState .\n",
    "            ?brazilState rdfs:label ?stateName\n",
    "        } UNION {\n",
    "            :US dct:hasPart ?usaState .\n",
    "            ?usaState rdfs:label ?stateName\n",
    "        }\n",
    "    }\n",
    "''')\n",
    "\n",
    "\"\"\"\n",
    "MATCH (slot1)\n",
    "WHERE\n",
    "    slot1.uri = \"http://ontologi.es/place/BR\"\n",
    "UNWIND [key in keys(slot1) WHERE key = n10s.rdf.shortFormFromFullUri(\"http://purl.org/dc/terms/\") + \"hasPart\" | [slot1, key, slot1[key]]] \n",
    "    + [(slot1)-[relation]->(brazilState) WHERE type(relation) = n10s.rdf.shortFormFromFullUri(\"http://purl.org/dc/terms/\") + \"hasPart\" | [slot1, relation, brazilState]] as triples\n",
    "\n",
    "WITH slot1 as slot1, triples[2] as brazilState\n",
    "UNWIND [key in keys(brazilState) WHERE key = n10s.rdf.shortFormFromFullUri(\"http://www.w3.org/2000/01/rdf-schema#\") + \"label\" | [brazilState, key, brazilState[key]]]\n",
    "    + [(brazilState)-[relation]->(brazilStateName) WHERE type(relation) = n10s.rdf.shortFormFromFullUri(\"http://www.w3.org/2000/01/rdf-schema#\") + \"label\" | [brazilState, relation, brazilStateName]] as triples\n",
    "\n",
    "WITH slot1 as slot1, brazilState as brazilState, triples[2] as stateName\n",
    "RETURN stateName\n",
    "\n",
    "UNION\n",
    "\n",
    "MATCH (slot1)\n",
    "WHERE\n",
    "    slot1.uri = \"http://ontologi.es/place/US\"\n",
    "UNWIND [key in keys(slot1) WHERE key = n10s.rdf.shortFormFromFullUri(\"http://purl.org/dc/terms/\") + \"hasPart\" | [slot1, key, slot1[key]]] \n",
    "    + [(slot1)-[relation]->(usaState) WHERE type(relation) = n10s.rdf.shortFormFromFullUri(\"http://purl.org/dc/terms/\") + \"hasPart\" | [slot1, relation, usaState]] as triples\n",
    "\n",
    "WITH slot1 as slot1, triples[2] as usaState\n",
    "UNWIND [key in keys(usaState) WHERE key = n10s.rdf.shortFormFromFullUri(\"http://www.w3.org/2000/01/rdf-schema#\") + \"label\" | [usaState, key, usaState[key]]]\n",
    "    + [(usaState)-[relation]->(stateName) WHERE type(relation) = n10s.rdf.shortFormFromFullUri(\"http://www.w3.org/2000/01/rdf-schema#\") + \"label\" | [usaState, relation, stateName]] as triples\n",
    "\n",
    "WITH slot1 as slot1, usaState as usaState, triples[2] as stateName\n",
    "RETURN stateName\n",
    "\"\"\""
   ]
  },
  {
   "cell_type": "code",
   "execution_count": null,
   "id": "d1815ac6-86ee-4240-b4d1-f2339d562157",
   "metadata": {},
   "outputs": [],
   "source": [
    "query_result = g.query('''\n",
    "    PREFIX :<http://ontologi.es/place/>\n",
    "    PREFIX dct:<http://purl.org/dc/terms/>\n",
    "    PREFIX rdfs:<http://www.w3.org/2000/01/rdf-schema#>\n",
    "    SELECT ?stateName WHERE {\n",
    "        ?brazilState rdfs:label ?stateName .\n",
    "        :BR dct:hasPart ?brazilState\n",
    "    }\n",
    "''')\n",
    "\n",
    "'''\n",
    "MATCH (brazilState)\n",
    "UNWIND [key in keys(brazilState) WHERE key = n10s.rdf.shortFormFromFullUri(\"http://www.w3.org/2000/01/rdf-schema#\") + \"label\" | [brazilState, key, brazilState[key]]]\n",
    "    + [(brazilState)-[relation]->(stateName) WHERE type(relation) = n10s.rdf.shortFormFromFullUri(\"http://www.w3.org/2000/01/rdf-schema#\") + \"label\" | [brazilState, relation, stateName]] AS triples\n",
    "WITH triples[2] as stateName, brazilState AS brazilState\n",
    "\n",
    "MATCH (_tmp)\n",
    "WHERE\n",
    "    _tmp.uri = \"http://ontologi.es/place/BR\"\n",
    "WITH _tmp AS BR, stateName as stateName, brazilState as brazilState\n",
    "\n",
    "UNWIND [key in keys(BR) WHERE key = n10s.rdf.shortFormFromFullUri(\"http://purl.org/dc/terms/\") + \"hasPart\" | [BR, key, BR[key]]] \n",
    "    + [(BR)-[relation]->(brazilState) WHERE type(relation) = n10s.rdf.shortFormFromFullUri(\"http://purl.org/dc/terms/\") + \"hasPart\" | [BR, relation, brazilState]] as triples\n",
    "\n",
    "WITH stateName as stateName, triples[2] as brazilState\n",
    "RETURN stateName\n",
    "'''"
   ]
  },
  {
   "cell_type": "code",
   "execution_count": null,
   "id": "1cea13cf-2220-4549-aa14-eac169df28a6",
   "metadata": {},
   "outputs": [],
   "source": [
    "query_result = g.query('''\n",
    "    PREFIX :<http://ontologi.es/place/>\n",
    "    PREFIX dct:<http://purl.org/dc/terms/>\n",
    "    PREFIX rdfs:<http://www.w3.org/2000/01/rdf-schema#>\n",
    "    SELECT ?stateName WHERE {\n",
    "        ?brazil dct:hasPart ?brazilState .\n",
    "        ?brazilState rdfs:label ?stateName .\n",
    "        ?brazil rdfs:label \"Brazil\"\n",
    "    }\n",
    "''')\n",
    "\n",
    "'''\n",
    "MATCH (brazil)\n",
    "\n",
    "UNWIND [key in keys(brazil) WHERE key = n10s.rdf.shortFormFromFullUri(\"http://purl.org/dc/terms/\") + \"hasPart\" | [brazil, key, brazil[key]]]\n",
    "    + [(brazil)-[relation]->(brazilState) WHERE type(relation) = n10s.rdf.shortFormFromFullUri(\"http://purl.org/dc/terms/\") + \"hasPart\" | [brazil, relation, brazilState]] as triples\n",
    "    \n",
    "WITH triples[2] as brazilState, brazil as brazil\n",
    "\n",
    "UNWIND [key in keys(brazilState) WHERE key = n10s.rdf.shortFormFromFullUri(\"http://www.w3.org/2000/01/rdf-schema#\") + \"label\" | [brazilState, key, brazilState[key]]]\n",
    "    + [(brazilState)-[relation]-(stateName) WHERE type(relation) = n10s.rdf.shortFormFromFullUri(\"http://www.w3.org/2000/01/rdf-schema#\") + \"label\" | [brazilState, relation, stateName]] as triples\n",
    "    \n",
    "WITH brazilState as brazilState, triples[2] as stateName, brazil as brazil\n",
    "\n",
    "UNWIND [key in keys(brazil) WHERE key = n10s.rdf.shortFormFromFullUri(\"http://www.w3.org/2000/01/rdf-schema#\") + \"label\" AND brazil[key] = \"Brazil\" | [brazil, key, brazil[key]]] as triples\n",
    "\n",
    "WITH brazilState as brazilState, brazil as brazil, stateName as stateName\n",
    "\n",
    "RETURN stateName\n",
    "'''\n",
    "\n",
    "query_result.bindings"
   ]
  },
  {
   "cell_type": "code",
   "execution_count": null,
   "id": "2c250871-4dad-4881-a8f3-f148495a58be",
   "metadata": {},
   "outputs": [],
   "source": [
    "parser = parser.SelectSparqlParser()"
   ]
  },
  {
   "cell_type": "code",
   "execution_count": null,
   "id": "3c43caf3-11c2-4bf2-83ca-413ac83fd460",
   "metadata": {},
   "outputs": [],
   "source": [
    "query = parser.parse('''SELECT * WHERE {\n",
    "        ?s ?p ?o\n",
    "    }'''\n",
    ")"
   ]
  },
  {
   "cell_type": "code",
   "execution_count": null,
   "id": "ceafc9a6-0ba9-480d-8820-c0a94971248f",
   "metadata": {},
   "outputs": [],
   "source": [
    "query"
   ]
  }
 ],
 "metadata": {
  "kernelspec": {
   "display_name": "Python 3 (ipykernel)",
   "language": "python",
   "name": "python3"
  },
  "language_info": {
   "codemirror_mode": {
    "name": "ipython",
    "version": 3
   },
   "file_extension": ".py",
   "mimetype": "text/x-python",
   "name": "python",
   "nbconvert_exporter": "python",
   "pygments_lexer": "ipython3",
   "version": "3.10.2"
  }
 },
 "nbformat": 4,
 "nbformat_minor": 5
}
